{
 "cells": [
  {
   "cell_type": "code",
   "execution_count": null,
   "id": "451a2c6c-acf6-4e41-a514-01ef112647d6",
   "metadata": {},
   "outputs": [],
   "source": [
    "#!pip install xgboost lightgbm imblearn mlflow"
   ]
  },
  {
   "cell_type": "code",
   "execution_count": null,
   "id": "0d3d07f5-3d66-47b8-981e-b34a8efa2d90",
   "metadata": {},
   "outputs": [],
   "source": [
    "#!pip install alibi-detect"
   ]
  },
  {
   "cell_type": "code",
   "execution_count": null,
   "id": "c630392a-cd57-439a-a5b5-fa5f65e5f063",
   "metadata": {},
   "outputs": [],
   "source": [
    "#!pip install shap"
   ]
  },
  {
   "cell_type": "code",
   "execution_count": null,
   "id": "618a982a-383c-4c58-9094-bc072c5d6dd0",
   "metadata": {},
   "outputs": [],
   "source": [
    "# pip install --upgrade huggingface_hub datasets alibi-detect"
   ]
  },
  {
   "cell_type": "code",
   "execution_count": null,
   "id": "7ed941d8-e411-41ed-ae85-52c799f3d8b3",
   "metadata": {},
   "outputs": [],
   "source": [
    "import pandas as pd\n",
    "import numpy as np\n",
    "import matplotlib.pyplot as plt\n",
    "import seaborn as sns\n",
    "from sklearn.model_selection import train_test_split, GridSearchCV, TimeSeriesSplit\n",
    "from sklearn.preprocessing import StandardScaler\n",
    "from sklearn.metrics import classification_report, confusion_matrix, roc_auc_score, precision_recall_curve\n",
    "from sklearn.ensemble import RandomForestClassifier, GradientBoostingClassifier\n",
    "from sklearn.linear_model import LogisticRegression\n",
    "from xgboost import XGBClassifier\n",
    "from lightgbm import LGBMClassifier\n",
    "from imblearn.over_sampling import SMOTE\n",
    "from imblearn.under_sampling import RandomUnderSampler\n",
    "from imblearn.pipeline import Pipeline as ImbPipeline\n",
    "from sklearn.feature_selection import SelectFromModel\n",
    "from sklearn.decomposition import PCA\n",
    "from sklearn.cluster import KMeans\n",
    "import shap\n",
    "import mlflow\n",
    "import mlflow.sklearn\n",
    "from alibi_detect.cd import KSDrift"
   ]
  },
  {
   "cell_type": "code",
   "execution_count": null,
   "id": "7f0e23d2-0235-4737-8d71-51dc6e03e76a",
   "metadata": {},
   "outputs": [],
   "source": [
    "df = pd.read_csv(\"creditcard.csv\")"
   ]
  },
  {
   "cell_type": "code",
   "execution_count": null,
   "id": "cb04a0d0-ff3d-4241-96b2-5bf11efb9dbd",
   "metadata": {},
   "outputs": [],
   "source": [
    "df"
   ]
  },
  {
   "cell_type": "code",
   "execution_count": null,
   "id": "2a3d6083-89fb-464d-b168-2097cdfdceef",
   "metadata": {},
   "outputs": [],
   "source": []
  },
  {
   "cell_type": "code",
   "execution_count": null,
   "id": "49b7dbba-e00f-4dff-9a30-4b61f856a6f8",
   "metadata": {},
   "outputs": [],
   "source": [
    "df['ammount_log'] = np.log(df['Amount'] +1)"
   ]
  },
  {
   "cell_type": "code",
   "execution_count": null,
   "id": "9945d255-cdf6-46f5-832b-cc0471b86c18",
   "metadata": {},
   "outputs": [],
   "source": [
    "df['ammount_log']"
   ]
  },
  {
   "cell_type": "code",
   "execution_count": null,
   "id": "3393f85f-8752-4087-b07e-e0b673ff1e42",
   "metadata": {},
   "outputs": [],
   "source": [
    "df['Time_hour'] = df['Time'] //3600\n",
    "df['Time_day'] = df['Time']//(3600*24)"
   ]
  },
  {
   "cell_type": "code",
   "execution_count": null,
   "id": "7f65ddf5-6df6-475b-ab2d-683c479241b4",
   "metadata": {},
   "outputs": [],
   "source": [
    "df"
   ]
  },
  {
   "cell_type": "code",
   "execution_count": null,
   "id": "dee261a5-b686-4274-ac21-aa71bed55070",
   "metadata": {},
   "outputs": [],
   "source": [
    "for i in range(1,29):\n",
    "    for j in range(i+1,29):\n",
    "        df[f'V{i}V{j}'] = df[f'V{i}'] * df[f'V{j}']"
   ]
  },
  {
   "cell_type": "code",
   "execution_count": null,
   "id": "928378b5-32f1-4bd9-8b72-019cc7b0b795",
   "metadata": {},
   "outputs": [],
   "source": [
    "df"
   ]
  },
  {
   "cell_type": "code",
   "execution_count": null,
   "id": "9757573d-dad2-41c4-86da-9f5ee1eb53d8",
   "metadata": {},
   "outputs": [],
   "source": [
    "X = df.drop(['Class', \"Time\"], axis =1)"
   ]
  },
  {
   "cell_type": "code",
   "execution_count": null,
   "id": "5dfab646-f3cd-4ba3-bee6-98ca501be183",
   "metadata": {},
   "outputs": [],
   "source": [
    "y = df['Class']"
   ]
  },
  {
   "cell_type": "code",
   "execution_count": null,
   "id": "b5b7ba10-6229-4c55-8738-27eb32b7094f",
   "metadata": {},
   "outputs": [],
   "source": [
    "X"
   ]
  },
  {
   "cell_type": "code",
   "execution_count": null,
   "id": "a082796d-1e8e-45e0-9698-46ca69e7ffdb",
   "metadata": {},
   "outputs": [],
   "source": [
    "y"
   ]
  },
  {
   "cell_type": "code",
   "execution_count": null,
   "id": "619028d4-58f1-43c4-bdf9-50014a345668",
   "metadata": {},
   "outputs": [],
   "source": [
    "X_train, X_test, y_train, y_test = train_test_split(X,y,test_size=0.2, random_state=42 )"
   ]
  },
  {
   "cell_type": "code",
   "execution_count": null,
   "id": "d8ec6b1c-996d-4415-a1a2-4bca1e3d28a7",
   "metadata": {},
   "outputs": [],
   "source": [
    "sc = StandardScaler()"
   ]
  },
  {
   "cell_type": "code",
   "execution_count": null,
   "id": "15821b8a-bed9-449d-a39a-ae1892611021",
   "metadata": {},
   "outputs": [],
   "source": [
    "X_train = sc.fit_transform(X_train)\n",
    "X_test = sc.transform(X_test)"
   ]
  },
  {
   "cell_type": "code",
   "execution_count": null,
   "id": "a7fcbc3a-ebde-4916-ad78-a644ff56d9d1",
   "metadata": {},
   "outputs": [],
   "source": [
    "over = SMOTE(sampling_strategy=0.1, random_state=42)\n",
    "under = RandomUnderSampler(sampling_strategy=0.5, random_state=42)\n",
    "steps = [('over', over), ('under', under)]\n",
    "pipeline = ImbPipeline(steps=steps)\n",
    "X_resampled, y_resampled = pipeline.fit_resample(X_train, y_train)"
   ]
  },
  {
   "cell_type": "code",
   "execution_count": null,
   "id": "d3d00f2b-e4c6-4f72-954c-29e9ae949127",
   "metadata": {},
   "outputs": [],
   "source": [
    "len(X_resampled)"
   ]
  },
  {
   "cell_type": "code",
   "execution_count": null,
   "id": "f68fcce1-c434-4e8f-a7e4-2bdfef3dcd90",
   "metadata": {},
   "outputs": [],
   "source": [
    "selector = SelectFromModel(estimator=LGBMClassifier(random_state=42), max_features=50)\n",
    "X_selected = selector.fit_transform(X_resampled, y_resampled)\n",
    "selected_features = X.columns[selector.get_support()].tolist()"
   ]
  },
  {
   "cell_type": "code",
   "execution_count": null,
   "id": "d8fbf39d-d930-4d56-93f5-b96dfc40da09",
   "metadata": {
    "scrolled": true
   },
   "outputs": [],
   "source": [
    "len(selected_features)"
   ]
  },
  {
   "cell_type": "code",
   "execution_count": null,
   "id": "ace4f76d-a2f9-4eb9-90bc-c4c0a86e51c5",
   "metadata": {},
   "outputs": [],
   "source": [
    "pca = PCA(n_components=0.95, random_state=42)\n",
    "X_pca = pca.fit_transform(X_selected)"
   ]
  },
  {
   "cell_type": "code",
   "execution_count": null,
   "id": "c7722e5f-20b0-470f-b96f-197a88730815",
   "metadata": {},
   "outputs": [],
   "source": [
    "pca.n_components_"
   ]
  },
  {
   "cell_type": "code",
   "execution_count": null,
   "id": "8754aaa4-cbe4-4a12-90d0-188ebe838a14",
   "metadata": {},
   "outputs": [],
   "source": [
    "X_pca"
   ]
  },
  {
   "cell_type": "code",
   "execution_count": null,
   "id": "ed573bed-c5dd-4e75-a02f-ad68bf736c87",
   "metadata": {},
   "outputs": [],
   "source": [
    "kmeans = KMeans(n_clusters=5, random_state=42)\n",
    "cluster_labels = kmeans.fit_predict(X_pca)\n",
    "X_with_clusters = np.column_stack((X_pca, cluster_labels))"
   ]
  },
  {
   "cell_type": "code",
   "execution_count": null,
   "id": "6b55a366-41d0-47f0-af5a-d8025eac621f",
   "metadata": {},
   "outputs": [],
   "source": [
    "X_with_clusters"
   ]
  },
  {
   "cell_type": "code",
   "execution_count": null,
   "id": "068e43c0-e24a-4e12-9c55-fe9d97633b3b",
   "metadata": {},
   "outputs": [],
   "source": [
    "models = {\"Random Fortest\": RandomForestClassifier(random_state=42),\n",
    "         \"Gradiant Boosting\":GradientBoostingClassifier(random_state=42),\n",
    "         \"XGBoost\":XGBClassifier(random_state=42),\n",
    "         \"LightBGM\": LGBMClassifier(random_state=42),\n",
    "         \"Logistic\": LogisticRegression(random_state=42)}"
   ]
  },
  {
   "cell_type": "code",
   "execution_count": null,
   "id": "9403bfbe-5be4-4b24-9454-1982a4eef7c2",
   "metadata": {},
   "outputs": [],
   "source": [
    "best_model = None\n",
    "best_acc = 0"
   ]
  },
  {
   "cell_type": "code",
   "execution_count": null,
   "id": "0b7010c7-e7c2-450b-a4bb-ae1864814194",
   "metadata": {},
   "outputs": [],
   "source": [
    "for name, model in models.items():\n",
    "    print(f\"\\nTraining {name}...\")\n",
    "    model.fit(X_with_clusters, y_resampled)\n",
    "    y_pred = model.predict(np.column_stack((pca.transform(selector.transform(X_test)), kmeans.predict(pca.transform(selector.transform(X_test))))))\n",
    "    auc = roc_auc_score(y_test, y_pred)\n",
    "    print(f\"AUC for {name}: {auc}\")\n",
    "    if auc > best_acc:\n",
    "        best_acc = auc\n",
    "        best_model = model"
   ]
  },
  {
   "cell_type": "code",
   "execution_count": null,
   "id": "52a9362d-6a2f-490f-af70-3b69a476fcfe",
   "metadata": {},
   "outputs": [],
   "source": []
  }
 ],
 "metadata": {
  "kernelspec": {
   "display_name": "Python 3 (ipykernel)",
   "language": "python",
   "name": "python3"
  },
  "language_info": {
   "codemirror_mode": {
    "name": "ipython",
    "version": 3
   },
   "file_extension": ".py",
   "mimetype": "text/x-python",
   "name": "python",
   "nbconvert_exporter": "python",
   "pygments_lexer": "ipython3",
   "version": "3.12.4"
  }
 },
 "nbformat": 4,
 "nbformat_minor": 5
}
